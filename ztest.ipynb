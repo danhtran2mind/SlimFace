{
 "cells": [
  {
   "cell_type": "code",
   "execution_count": 9,
   "id": "d901cba8",
   "metadata": {},
   "outputs": [
    {
     "data": {
      "text/plain": [
       "'1.26.4'"
      ]
     },
     "execution_count": 9,
     "metadata": {},
     "output_type": "execute_result"
    }
   ],
   "source": [
    "import numpy as np\n",
    "np.__version__"
   ]
  },
  {
   "cell_type": "code",
   "execution_count": 8,
   "id": "20592588",
   "metadata": {},
   "outputs": [
    {
     "name": "stdout",
     "output_type": "stream",
     "text": [
      "Traceback (most recent call last):\n",
      "  File \"/home/codespace/.python/current/bin/accelerate\", line 5, in <module>\n",
      "    from accelerate.commands.accelerate_cli import main\n",
      "  File \"/usr/local/python/3.12.1/lib/python3.12/site-packages/accelerate/__init__.py\", line 16, in <module>\n",
      "    from .accelerator import Accelerator\n",
      "  File \"/usr/local/python/3.12.1/lib/python3.12/site-packages/accelerate/accelerator.py\", line 36, in <module>\n",
      "    from accelerate.utils.imports import is_torchao_available\n",
      "  File \"/usr/local/python/3.12.1/lib/python3.12/site-packages/accelerate/utils/__init__.py\", line 218, in <module>\n",
      "    from .bnb import has_4bit_bnb_layers, load_and_quantize_model\n",
      "  File \"/usr/local/python/3.12.1/lib/python3.12/site-packages/accelerate/utils/bnb.py\", line 29, in <module>\n",
      "    from ..big_modeling import dispatch_model, init_empty_weights\n",
      "  File \"/usr/local/python/3.12.1/lib/python3.12/site-packages/accelerate/big_modeling.py\", line 24, in <module>\n",
      "    from .hooks import (\n",
      "  File \"/usr/local/python/3.12.1/lib/python3.12/site-packages/accelerate/hooks.py\", line 37, in <module>\n",
      "    from .utils.other import recursive_getattr\n",
      "  File \"/usr/local/python/3.12.1/lib/python3.12/site-packages/accelerate/utils/other.py\", line 225, in <module>\n",
      "    np_core.multiarray._reconstruct,\n",
      "    ^^^^^^^^^^^^^^^^^^\n",
      "AttributeError: module 'numpy._core' has no attribute 'multiarray'\n"
     ]
    }
   ],
   "source": [
    "!accelerate config default"
   ]
  },
  {
   "cell_type": "code",
   "execution_count": 10,
   "id": "ba0a05e9",
   "metadata": {},
   "outputs": [
    {
     "name": "stdout",
     "output_type": "stream",
     "text": [
      "Traceback (most recent call last):\n",
      "  File \"/home/codespace/.python/current/bin/accelerate\", line 5, in <module>\n",
      "    from accelerate.commands.accelerate_cli import main\n",
      "  File \"/usr/local/python/3.12.1/lib/python3.12/site-packages/accelerate/__init__.py\", line 16, in <module>\n",
      "    from .accelerator import Accelerator\n",
      "  File \"/usr/local/python/3.12.1/lib/python3.12/site-packages/accelerate/accelerator.py\", line 36, in <module>\n",
      "    from accelerate.utils.imports import is_torchao_available\n",
      "  File \"/usr/local/python/3.12.1/lib/python3.12/site-packages/accelerate/utils/__init__.py\", line 218, in <module>\n",
      "    from .bnb import has_4bit_bnb_layers, load_and_quantize_model\n",
      "  File \"/usr/local/python/3.12.1/lib/python3.12/site-packages/accelerate/utils/bnb.py\", line 29, in <module>\n",
      "    from ..big_modeling import dispatch_model, init_empty_weights\n",
      "  File \"/usr/local/python/3.12.1/lib/python3.12/site-packages/accelerate/big_modeling.py\", line 24, in <module>\n",
      "    from .hooks import (\n",
      "  File \"/usr/local/python/3.12.1/lib/python3.12/site-packages/accelerate/hooks.py\", line 37, in <module>\n",
      "    from .utils.other import recursive_getattr\n",
      "  File \"/usr/local/python/3.12.1/lib/python3.12/site-packages/accelerate/utils/other.py\", line 225, in <module>\n",
      "    np_core.multiarray._reconstruct,\n",
      "    ^^^^^^^^^^^^^^^^^^\n",
      "AttributeError: module 'numpy._core' has no attribute 'multiarray'\n"
     ]
    }
   ],
   "source": [
    "!accelerate laucnh accelerate_train.py \\\n",
    "    --batch_size 2"
   ]
  },
  {
   "cell_type": "code",
   "execution_count": null,
   "id": "115b54fd",
   "metadata": {},
   "outputs": [],
   "source": [
    "!pip install accelerate==1.7.0"
   ]
  },
  {
   "cell_type": "code",
   "execution_count": 13,
   "id": "688fafd3",
   "metadata": {},
   "outputs": [
    {
     "name": "stdout",
     "output_type": "stream",
     "text": [
      "Name: accelerate\n",
      "Version: 1.7.0\n",
      "Summary: Accelerate\n",
      "Home-page: https://github.com/huggingface/accelerate\n",
      "Author: The HuggingFace team\n",
      "Author-email: zach.mueller@huggingface.co\n",
      "License: Apache\n",
      "Location: /usr/local/python/3.12.1/lib/python3.12/site-packages\n",
      "Requires: huggingface-hub, numpy, packaging, psutil, pyyaml, safetensors, torch\n",
      "Required-by: \n"
     ]
    }
   ],
   "source": [
    "!pip show accelerate"
   ]
  },
  {
   "cell_type": "code",
   "execution_count": 2,
   "id": "34907285",
   "metadata": {},
   "outputs": [
    {
     "name": "stdout",
     "output_type": "stream",
     "text": [
      "Collecting seedir\n",
      "  Downloading seedir-0.5.1-py3-none-any.whl.metadata (1.8 kB)\n",
      "Collecting natsort (from seedir)\n",
      "  Downloading natsort-8.4.0-py3-none-any.whl.metadata (21 kB)\n",
      "Downloading seedir-0.5.1-py3-none-any.whl (113 kB)\n",
      "Downloading natsort-8.4.0-py3-none-any.whl (38 kB)\n",
      "Installing collected packages: natsort, seedir\n",
      "\u001b[2K   \u001b[90m━━━━━━━━━━━━━━━━━━━━━━━━━━━━━━━━━━━━━━━━\u001b[0m \u001b[32m2/2\u001b[0m [seedir]\n",
      "\u001b[1A\u001b[2KSuccessfully installed natsort-8.4.0 seedir-0.5.1\n"
     ]
    }
   ],
   "source": [
    "!pip install seedir"
   ]
  },
  {
   "cell_type": "code",
   "execution_count": 3,
   "id": "73ed79ef",
   "metadata": {},
   "outputs": [
    {
     "name": "stdout",
     "output_type": "stream",
     "text": [
      "slim-face-recognition/\n",
      "├─.git/\n",
      "│ ├─info/\n",
      "│ │ └─exclude\n",
      "│ ├─HEAD\n",
      "│ ├─packed-refs\n",
      "│ ├─logs/\n",
      "│ │ ├─HEAD\n",
      "│ │ └─refs/\n",
      "│ ├─index\n",
      "│ ├─FETCH_HEAD\n",
      "│ ├─ORIG_HEAD\n",
      "│ ├─refs/\n",
      "│ │ ├─remotes/\n",
      "│ │ ├─tags/\n",
      "│ │ └─heads/\n",
      "│ ├─branches/\n",
      "│ ├─config\n",
      "│ ├─description\n",
      "│ ├─lfs/\n",
      "│ │ └─tmp/\n",
      "│ ├─hooks/\n",
      "│ │ ├─pre-commit.sample\n",
      "│ │ ├─update.sample\n",
      "│ │ ├─prepare-commit-msg.sample\n",
      "│ │ ├─pre-push.sample\n",
      "│ │ ├─fsmonitor-watchman.sample\n",
      "│ │ ├─push-to-checkout.sample\n",
      "│ │ ├─applypatch-msg.sample\n",
      "│ │ ├─pre-receive.sample\n",
      "│ │ ├─post-update.sample\n",
      "│ │ ├─sendemail-validate.sample\n",
      "│ │ ├─pre-merge-commit.sample\n",
      "│ │ ├─pre-rebase.sample\n",
      "│ │ ├─pre-applypatch.sample\n",
      "│ │ └─commit-msg.sample\n",
      "│ └─objects/\n",
      "│   ├─bb/\n",
      "│   ├─3a/\n",
      "│   ├─a5/\n",
      "│   ├─fc/\n",
      "│   ├─info/\n",
      "│   ├─47/\n",
      "│   ├─2d/\n",
      "│   ├─72/\n",
      "│   ├─77/\n",
      "│   ├─32/\n",
      "│   ├─20/\n",
      "│   ├─13/\n",
      "│   ├─5e/\n",
      "│   ├─27/\n",
      "│   ├─d3/\n",
      "│   ├─16/\n",
      "│   ├─42/\n",
      "│   ├─62/\n",
      "│   ├─2e/\n",
      "│   ├─2a/\n",
      "│   ├─pack/\n",
      "│   ├─9c/\n",
      "│   ├─d1/\n",
      "│   ├─3e/\n",
      "│   ├─f3/\n",
      "│   ├─65/\n",
      "│   ├─f1/\n",
      "│   ├─81/\n",
      "│   ├─38/\n",
      "│   ├─b5/\n",
      "│   ├─07/\n",
      "│   ├─fa/\n",
      "│   ├─b7/\n",
      "│   ├─8e/\n",
      "│   ├─6b/\n",
      "│   ├─87/\n",
      "│   ├─71/\n",
      "│   ├─5b/\n",
      "│   ├─7f/\n",
      "│   ├─cd/\n",
      "│   ├─3d/\n",
      "│   ├─eb/\n",
      "│   └─ae/\n",
      "├─ztest.ipynb\n",
      "├─requirements.txt\n",
      "├─requirements-compatible txt\n",
      "├─.python-version\n",
      "├─tests/\n",
      "│ ├─README.md\n",
      "│ ├─__pycache__/\n",
      "│ │ ├─__init__.cpython-312.pyc\n",
      "│ │ └─export_image_embeding.cpython-312.pyc\n",
      "│ ├─test_images/\n",
      "│ │ └─Elon_Musk.jpg\n",
      "│ ├─__init__.py\n",
      "│ └─export_image_embeding.py\n",
      "├─scripts/\n",
      "│ ├─accelerate_train.py\n",
      "│ ├─download_example_kaggle_dataset.py\n",
      "│ ├─train.py\n",
      "│ └─__init__.py\n",
      "├─README.md\n",
      "├─LICENSE\n",
      "├─edgeface/\n",
      "│ ├─.git/\n",
      "│ │ ├─info/\n",
      "│ │ ├─HEAD\n",
      "│ │ ├─packed-refs\n",
      "│ │ ├─logs/\n",
      "│ │ ├─index\n",
      "│ │ ├─FETCH_HEAD\n",
      "│ │ ├─refs/\n",
      "│ │ ├─config\n",
      "│ │ ├─description\n",
      "│ │ ├─hooks/\n",
      "│ │ └─objects/\n",
      "│ ├─checkpoints/\n",
      "│ │ ├─edgeface_xs_gamma_06.pt\n",
      "│ │ └─edgeface_s_gamma_05.pt\n",
      "│ ├─requirements-compatible txt\n",
      "│ ├─.python-version\n",
      "│ ├─requirement.txt\n",
      "│ ├─face_alignment/\n",
      "│ │ ├─align.py\n",
      "│ │ ├─README.md\n",
      "│ │ ├─LICENSE\n",
      "│ │ ├─mtcnn.py\n",
      "│ │ └─mtcnn_pytorch/\n",
      "│ ├─hubconf.py\n",
      "│ ├─README.md\n",
      "│ ├─LICENSE\n",
      "│ ├─backbones/\n",
      "│ │ ├─timmfr.py\n",
      "│ │ └─__init__.py\n",
      "│ └─assets/\n",
      "│   ├─edgeface.png\n",
      "│   └─benchmark.png\n",
      "└─.gitignore\n"
     ]
    }
   ],
   "source": [
    "import seedir as sd\n",
    "sd.seedir(\n",
    "        path=\".\",\n",
    "        style='lines',\n",
    "        printout=True,\n",
    "        depthlimit=3,\n",
    "        \n",
    "        \n",
    "\n",
    "    )"
   ]
  }
 ],
 "metadata": {
  "kernelspec": {
   "display_name": "Python 3",
   "language": "python",
   "name": "python3"
  },
  "language_info": {
   "codemirror_mode": {
    "name": "ipython",
    "version": 3
   },
   "file_extension": ".py",
   "mimetype": "text/x-python",
   "name": "python",
   "nbconvert_exporter": "python",
   "pygments_lexer": "ipython3",
   "version": "3.12.1"
  }
 },
 "nbformat": 4,
 "nbformat_minor": 5
}
